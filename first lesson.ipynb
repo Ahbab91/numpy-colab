{
  "nbformat": 4,
  "nbformat_minor": 0,
  "metadata": {
    "colab": {
      "name": "Untitled0.ipynb",
      "provenance": [],
      "authorship_tag": "ABX9TyPHbDARuWmHaqrhJ43fydi9",
      "include_colab_link": true
    },
    "kernelspec": {
      "name": "python3",
      "display_name": "Python 3"
    },
    "language_info": {
      "name": "python"
    }
  },
  "cells": [
    {
      "cell_type": "markdown",
      "metadata": {
        "id": "view-in-github",
        "colab_type": "text"
      },
      "source": [
        "<a href=\"https://colab.research.google.com/github/Ahbab91/numpy-colab/blob/main/first%20lesson.ipynb\" target=\"_parent\"><img src=\"https://colab.research.google.com/assets/colab-badge.svg\" alt=\"Open In Colab\"/></a>"
      ]
    },
    {
      "cell_type": "code",
      "execution_count": 1,
      "metadata": {
        "colab": {
          "base_uri": "https://localhost:8080/"
        },
        "id": "l7xvQlMjGFvC",
        "outputId": "f39b7e82-7406-4e91-da71-a7ab62d8577b"
      },
      "outputs": [
        {
          "output_type": "stream",
          "name": "stdout",
          "text": [
            "first try in colaboratory\n"
          ]
        }
      ],
      "source": [
        "print('first try in colaboratory')"
      ]
    },
    {
      "cell_type": "code",
      "source": [
        "print('life is life')"
      ],
      "metadata": {
        "id": "ug4431paGLxs",
        "outputId": "386bdb76-792c-4c51-e402-f4f9e019ed6d",
        "colab": {
          "base_uri": "https://localhost:8080/"
        }
      },
      "execution_count": 2,
      "outputs": [
        {
          "output_type": "stream",
          "name": "stdout",
          "text": [
            "life is life\n"
          ]
        }
      ]
    },
    {
      "cell_type": "code",
      "source": [
        ""
      ],
      "metadata": {
        "id": "Xgi9ikBwNONE"
      },
      "execution_count": null,
      "outputs": []
    }
  ]
}